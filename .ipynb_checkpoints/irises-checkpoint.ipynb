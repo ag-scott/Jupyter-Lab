{
 "cells": [
  {
   "cell_type": "code",
   "execution_count": null,
   "metadata": {},
   "outputs": [],
   "source": [
    "%matplotlib inline\n",
    "import numpy as np\n",
    "import pandas as pd\n",
    "import matplotlib.pyplot as plt\n",
    "import seaborn as sns; sns.set()\n",
    "from sklearn import datasets"
   ]
  },
  {
   "cell_type": "code",
   "execution_count": null,
   "metadata": {},
   "outputs": [],
   "source": [
    "iris = pd.read_csv('iris.csv')"
   ]
  },
  {
   "cell_type": "code",
   "execution_count": null,
   "metadata": {},
   "outputs": [],
   "source": [
    "iris.head()"
   ]
  },
  {
   "cell_type": "code",
   "execution_count": null,
   "metadata": {},
   "outputs": [],
   "source": [
    "iris.describe()"
   ]
  },
  {
   "cell_type": "code",
   "execution_count": null,
   "metadata": {},
   "outputs": [],
   "source": [
    "plt.hist(iris['petal_length'])"
   ]
  },
  {
   "cell_type": "code",
   "execution_count": null,
   "metadata": {
    "collapsed": true,
    "jupyter": {
     "outputs_hidden": true,
     "source_hidden": true
    }
   },
   "outputs": [],
   "source": []
  },
  {
   "cell_type": "code",
   "execution_count": null,
   "metadata": {},
   "outputs": [],
   "source": [
    "shortpetals = iris.loc[iris['petal_length'] <= 2.5]\n",
    "shortpetals['species'].unique()"
   ]
  },
  {
   "cell_type": "code",
   "execution_count": null,
   "metadata": {},
   "outputs": [],
   "source": [
    "longpetals = iris.loc[iris['petal_length'] >= 2.5]\n",
    "longpetals['species'].unique()"
   ]
  },
  {
   "cell_type": "code",
   "execution_count": null,
   "metadata": {
    "jupyter": {
     "source_hidden": true
    }
   },
   "outputs": [],
   "source": []
  },
  {
   "cell_type": "code",
   "execution_count": null,
   "metadata": {},
   "outputs": [],
   "source": [
    "sns.pairplot(iris, hue='species')"
   ]
  },
  {
   "cell_type": "code",
   "execution_count": null,
   "metadata": {},
   "outputs": [],
   "source": [
    "x = iris[['sepal_length', 'sepal_width', 'petal_length', 'petal_width']]\n",
    "y = iris['species']\n",
    "with sns.axes_style('ticks'):\n",
    "    g = sns.factorplot('petal_length', 'petal_width', 'species', data = iris, kind = 'box')\n",
    "    g.set_axis_labels('Petal Length', 'Petal Width')"
   ]
  },
  {
   "cell_type": "code",
   "execution_count": null,
   "metadata": {},
   "outputs": [],
   "source": [
    "with sns.axes_style('ticks'):\n",
    "    g = sns.catplot('petal_length', 'sepal_width', 'species', data = iris, kind = 'box')\n",
    "    g.set_axis_labels('Petal Length', 'Sepal Width')"
   ]
  },
  {
   "cell_type": "code",
   "execution_count": null,
   "metadata": {},
   "outputs": [],
   "source": [
    "iris['plround'] = round(iris['petal_length'])\n",
    "iris['pwround'] = round(iris['petal_width'])\n",
    "iris['slround'] = round(iris['sepal_length'])\n",
    "iris['swround'] = round(iris['sepal_width'])\n",
    "iris.head()"
   ]
  },
  {
   "cell_type": "code",
   "execution_count": null,
   "metadata": {},
   "outputs": [],
   "source": [
    "with sns.axes_style('ticks'):\n",
    "    g = sns.catplot('plround', 'petal_width', 'species', data = iris, kind = 'box')\n",
    "    g.set_axis_labels('Petal Length', 'Petal Width')\n",
    "    plt.axvline(2.5, color = 'k', linestyle = '--')\n",
    "    plt.axhline(0.75, color = 'k', linestyle = '--')\n",
    "    plt.axhline(1.6, color = 'k', linestyle = '--')\n",
    "    plt.text(3.0, 1.75, 'virginica', size = 8, color = 'green')"
   ]
  },
  {
   "cell_type": "code",
   "execution_count": null,
   "metadata": {},
   "outputs": [],
   "source": [
    "setosas = iris.loc[iris['species'] == 'setosa']\n",
    "virginica = iris.loc[iris['species'] == 'virginica']\n",
    "versicolor = iris.loc[iris['species'] == 'versicolor']\n",
    "\n",
    "plt.hexbin(setosas['petal_width'], setosas['petal_length'], gridsize = 5, cmap='Blues')\n",
    "plt.xlim(0, 2.6)\n",
    "plt.ylim(0, 7)\n",
    "plt.colorbar()"
   ]
  },
  {
   "cell_type": "code",
   "execution_count": null,
   "metadata": {
    "jupyter": {
     "source_hidden": true
    }
   },
   "outputs": [],
   "source": [
    "plt.hexbin(virginica['petal_width'], virginica['petal_length'], gridsize = 5, cmap='Greens')\n",
    "plt.xlim(0, 2.6)\n",
    "plt.ylim(0, 7)\n",
    "plt.colorbar()"
   ]
  },
  {
   "cell_type": "code",
   "execution_count": null,
   "metadata": {
    "jupyter": {
     "source_hidden": true
    }
   },
   "outputs": [],
   "source": [
    "plt.hexbin(versicolor['petal_width'], versicolor['petal_length'], gridsize = 5, cmap='Oranges')\n",
    "plt.xlim(0, 2.6)\n",
    "plt.ylim(0, 7)\n",
    "plt.colorbar()"
   ]
  },
  {
   "cell_type": "code",
   "execution_count": null,
   "metadata": {},
   "outputs": [],
   "source": [
    "hfont = {'fontname':'Times New Roman'}\n",
    "import matplotlib.patheffects as pe\n",
    "\n",
    "plt.hexbin(setosas['petal_width'], setosas['petal_length'], gridsize = 3, cmap='Blues')\n",
    "plt.hexbin(virginica['petal_width'], virginica['petal_length'], gridsize = 5, cmap='Greens', alpha = 0.7)\n",
    "plt.hexbin(versicolor['petal_width'], versicolor['petal_length'], gridsize = 5, cmap='Oranges', alpha = 0.7)\n",
    "plt.hexbin([0, 1, 2, 3], [0,2,5,7], gridsize = 15, cmap='coolwarm',alpha = 0.01)\n",
    "plt.xlim(0, 2.6)\n",
    "plt.ylim(0, 7)\n",
    "plt.xlabel('Petal Width (cm)', **hfont)\n",
    "plt.ylabel('Petal Length (cm)', **hfont)\n",
    "plt.title('Petal Dimensions by Iris Species', size = 20, **hfont)\n",
    "plt.text(0.32, 0.9, 'Setosa', size = 12, color = 'darkblue', **hfont)\n",
    "plt.text(1.4, 2.9, 'Versicolor', size = 12, color = 'brown',**hfont)\n",
    "plt.text(2.2, 4.35, 'Virginica', size = 12, color = 'darkgreen',**hfont)\n",
    "plt.axhline(2.5, color = 'k', linestyle = '-.', alpha = 0.2)\n",
    "ctry = np.array([1.464, 4.26, 5.552, 1.5])\n",
    "ctry2 = ctry - 0.05\n",
    "ctrx = np.array([0.244, 1.326, 2.026, 1.6])\n",
    "ctrx2 = ctrx + 0.01\n",
    "plt.text(1.65, 1.35, '= Species Mean', size = 12, color = 'k', **hfont)\n",
    "plt.scatter(ctrx, ctry, s=150, color='w', marker = '.', zorder = 2)\n",
    "plt.scatter(ctrx2, ctry2, s=150, color='k', marker = '.', alpha=0.8, zorder = 1)\n",
    "plt.show()\n"
   ]
  },
  {
   "cell_type": "code",
   "execution_count": null,
   "metadata": {},
   "outputs": [],
   "source": [
    "print(\"Average Setosa:\", setosas['petal_length'].mean(), 'cm long,', setosas['petal_width'].mean(), 'cm wide.')\n",
    "print(\"Average Versicolor:\", versicolor['petal_length'].mean(), 'cm long,', versicolor['petal_width'].mean(), 'cm wide.')\n",
    "print(\"Average Virginica:\", virginica['petal_length'].mean(), 'cm long,', virginica['petal_width'].mean(), 'cm wide.')"
   ]
  },
  {
   "cell_type": "code",
   "execution_count": null,
   "metadata": {},
   "outputs": [],
   "source": [
    "from mpl_toolkits import mplot3d"
   ]
  },
  {
   "cell_type": "code",
   "execution_count": null,
   "metadata": {},
   "outputs": [],
   "source": [
    "setosas['zaxisval'] = 1\n",
    "versicolor['zaxisval'] = 2\n",
    "virginica['zaxisval'] = 3\n",
    "iris2 = pd.concat([setosas, versicolor, virginica])\n",
    "iris2.tail()"
   ]
  },
  {
   "cell_type": "code",
   "execution_count": null,
   "metadata": {},
   "outputs": [],
   "source": [
    "import matplotlib\n",
    "cmap = matplotlib.colors.LinearSegmentedColormap.from_list(\"\", [\"blue\",\"darkorange\",\"green\"])"
   ]
  },
  {
   "cell_type": "code",
   "execution_count": null,
   "metadata": {},
   "outputs": [],
   "source": []
  },
  {
   "cell_type": "code",
   "execution_count": null,
   "metadata": {},
   "outputs": [],
   "source": [
    "from matplotlib.patches import Rectangle, PathPatch\n",
    "from matplotlib.transforms import Affine2D\n",
    "import mpl_toolkits.mplot3d.art3d as art3d\n",
    "X = iris2['petal_length']\n",
    "y = iris2['petal_width']\n",
    "z = iris2['zaxisval']\n",
    "\n",
    "xs = X\n",
    "ys = y\n",
    "zs = z\n",
    "\n",
    "\n",
    "from mpl_toolkits.mplot3d import Axes3D\n",
    "fig = plt.figure()\n",
    "ax1 = plt.axes(projection='3d')\n",
    "ax1.set_zticks([1,2,3])\n",
    "ax1.set_zticklabels(['Setosa','Versicolor','Virginica'])\n",
    "p6 = Rectangle((0, 0), 8, 3, facecolor='lightblue', edgecolor='blue', label='Setosa', alpha=0.1)\n",
    "ax1.add_patch(p6)\n",
    "art3d.pathpatch_2d_to_3d(p6, z=1, zdir=\"z\")\n",
    "p7 = Rectangle((0, 0), 8, 3, facecolor='orange', edgecolor='darkorange', label='Versicolor', alpha=0.1)\n",
    "ax1.add_patch(p7)\n",
    "art3d.pathpatch_2d_to_3d(p7, z=2, zdir=\"z\")\n",
    "p8 = Rectangle((0, 0), 8, 3, facecolor='lightgreen', edgecolor='green', label='Virginica', alpha=0.1)\n",
    "ax1.add_patch(p8)\n",
    "art3d.pathpatch_2d_to_3d(p8, z=3, zdir=\"z\")\n",
    "ax1.scatter(xs, ys, zs, marker='.', c=z, cmap=cmap, depthshade=True)\n",
    "ax1.set_xlabel(\"Petal Length (cm)\")\n",
    "ax1.set_ylabel(\"Petal Width (cm)\")\n",
    "ax1.set_title(\"Petal Length vs. Petal Width by Iris Species\", size = 20, **hfont)\n",
    "plt.tight_layout()\n",
    "for tick in ax1.get_xticklabels():\n",
    "    tick.set_fontname(\"Times New Roman\")\n",
    "for tick in ax1.get_yticklabels():\n",
    "    tick.set_fontname(\"Times New Roman\")\n",
    "for tick in ax1.get_zticklabels():\n",
    "    tick.set_fontname(\"Times New Roman\")\n"
   ]
  },
  {
   "cell_type": "code",
   "execution_count": null,
   "metadata": {
    "jupyter": {
     "source_hidden": true
    }
   },
   "outputs": [],
   "source": [
    "#fig = plt.figure()\n",
    "#ax = fig.add_subplot(111, projection='3d')\n",
    "#ax.set_zticks([1,2,3])\n",
    "#ax.set_zticklabels(['Setosa','Versicolor','Virginica'])\n",
    "#p = Rectangle((0, 0), 8, 3, color='lightblue', label='Setosa', alpha=0.4)\n",
    "#ax.add_patch(p)\n",
    "#art3d.pathpatch_2d_to_3d(p, z=1, zdir=\"z\")\n",
    "#p2 = Rectangle((0, 0), 8, 3, color='orange', label='Versicolor', alpha=0.4)\n",
    "#ax.add_patch(p2)\n",
    "#art3d.pathpatch_2d_to_3d(p2, z=2, zdir=\"z\")\n",
    "#p3 = Rectangle((0, 0), 8, 3, color='lightgreen', label='Virginica', alpha=0.4)\n",
    "#ax.add_patch(p3)\n",
    "#art3d.pathpatch_2d_to_3d(p3, z=3, zdir=\"z\")\n",
    "#p4 = Rectangle((0, 0), 2.5, 3.5, facecolor='white', edgecolor='black', alpha=0.3)\n",
    "#ax.add_patch(p4)\n",
    "#art3d.pathpatch_2d_to_3d(p4, z=2.5, zdir=\"x\")\n",
    "#p5 = Rectangle((0, 0), 8, 3.5, facecolor='white', edgecolor='black', alpha=0.3)\n",
    "#ax.add_patch(p5)\n",
    "#art3d.pathpatch_2d_to_3d(p5, z=0.8, zdir=\"y\")\n",
    "#ax.scatter(xs, ys, zs, marker='.', c=z, cmap=cmap, depthshade=True)\n",
    "#ax.set_xlabel(\"Petal Length (cm)\")\n",
    "#ax.set_ylabel(\"Petal Width (cm)\")\n",
    "#ax.set_title(\"Petal Length vs. Petal Width by Iris Species\")\n",
    "#plt.tight_layout()\n",
    "\n"
   ]
  },
  {
   "cell_type": "code",
   "execution_count": null,
   "metadata": {},
   "outputs": [],
   "source": [
    "iris.head()"
   ]
  },
  {
   "cell_type": "code",
   "execution_count": null,
   "metadata": {},
   "outputs": [],
   "source": [
    "iris['sepalratio'] = iris['sepal_length'] / iris['sepal_width']\n",
    "iris['petalratio'] = iris['petal_length'] / iris['petal_width']\n",
    "iris.head()"
   ]
  },
  {
   "cell_type": "code",
   "execution_count": null,
   "metadata": {},
   "outputs": [],
   "source": [
    "iris['sepalratio'].describe()"
   ]
  },
  {
   "cell_type": "code",
   "execution_count": null,
   "metadata": {},
   "outputs": [],
   "source": [
    "fig = plt.figure()\n",
    "ax = plt.axes()\n",
    "sns.kdeplot(iris['sepalratio'], shade=True)\n",
    "ax.set_xlabel('Sepal Length/Width Ratio', **hfont)\n",
    "ax.set_ylabel('Frequency', **hfont)"
   ]
  },
  {
   "cell_type": "code",
   "execution_count": null,
   "metadata": {},
   "outputs": [],
   "source": [
    "iris['petalratio'].describe()"
   ]
  },
  {
   "cell_type": "code",
   "execution_count": null,
   "metadata": {},
   "outputs": [],
   "source": [
    "fig = plt.figure()\n",
    "ax = plt.axes()\n",
    "ax.set_xlabel('Petal Length/Width Ratio', **hfont)\n",
    "ax.set_ylabel('Frequency', **hfont)\n",
    "sns.kdeplot(iris['petalratio'])"
   ]
  },
  {
   "cell_type": "code",
   "execution_count": null,
   "metadata": {},
   "outputs": [],
   "source": [
    "setosas['sepalratio'] = setosas['sepal_length'] / setosas['sepal_width']\n",
    "setosas.head()"
   ]
  },
  {
   "cell_type": "code",
   "execution_count": null,
   "metadata": {},
   "outputs": [],
   "source": [
    "versicolor['sepalratio'] = versicolor['sepal_length'] / versicolor['sepal_width']\n",
    "versicolor.head()"
   ]
  },
  {
   "cell_type": "code",
   "execution_count": null,
   "metadata": {},
   "outputs": [],
   "source": [
    "virginica['sepalratio'] = virginica['sepal_length'] / virginica['sepal_width']\n",
    "virginica.head()"
   ]
  },
  {
   "cell_type": "code",
   "execution_count": null,
   "metadata": {},
   "outputs": [],
   "source": [
    "setosas['petalratio'] = setosas['petal_length'] / setosas['petal_width']\n",
    "versicolor['petalratio'] = versicolor['petal_length'] / versicolor['petal_width']\n",
    "virginica['petalratio'] = virginica['petal_length'] / virginica['petal_width']\n",
    "\n",
    "setosas['splratio'] = setosas['petal_length']/setosas['sepal_length']\n",
    "versicolor['splratio'] = versicolor['petal_length']/versicolor['sepal_length']\n",
    "virginica['splratio'] = virginica['petal_length']/virginica['sepal_length']\n",
    "\n",
    "setosas['ldiff'] = setosas['sepal_length'] - setosas['petal_length']\n",
    "versicolor['ldiff'] = versicolor['sepal_length'] - versicolor['petal_length']\n",
    "virginica['ldiff'] = virginica['sepal_length'] - virginica['petal_length']\n"
   ]
  },
  {
   "cell_type": "code",
   "execution_count": null,
   "metadata": {},
   "outputs": [],
   "source": [
    "fig, (ax1, ax2, ax3, ax4) = plt.subplots(ncols=4, sharey=True, figsize=(15,5))\n",
    "sns.kdeplot(setosas['sepalratio'], shade=True, label = 'Setosa', ax=ax1)\n",
    "sns.kdeplot(versicolor['sepalratio'], shade=True, label = 'Versicolor', ax=ax1)\n",
    "sns.kdeplot(virginica['sepalratio'], shade=True, label = 'Virginica', ax=ax1)\n",
    "ax1.set_xlabel('Sepal Length/Width Ratio')\n",
    "ax1.set_ylabel('Kernel Density Estimate')\n",
    "\n",
    "sns.kdeplot(setosas['petalratio'], shade=True, label = 'Setosa', ax=ax2)\n",
    "sns.kdeplot(versicolor['petalratio'], shade=True, label = 'Versicolor', ax=ax2)\n",
    "sns.kdeplot(virginica['petalratio'], shade=True, label = 'Virginica', ax=ax2)\n",
    "ax2.set_xlabel('Petal Length/Width Ratio')\n",
    "ax2.set_ylabel('Kernel Density Estimate')\n",
    "\n",
    "sns.kdeplot(setosas['splratio'], shade=True, label='Setosa', ax=ax3)\n",
    "sns.kdeplot(versicolor['splratio'], shade=True, label='Versicolor', ax=ax3)\n",
    "sns.kdeplot(virginica['splratio'], shade=True, label='Virginica', ax=ax3)\n",
    "ax3.set_xlabel('Petal vs. Sepal Length Ratio')\n",
    "ax3.set_ylabel('Kernel Density Estimate')\n",
    "\n",
    "sns.kdeplot(setosas['ldiff'], shade=True, label='Setosa', ax=ax4)\n",
    "sns.kdeplot(versicolor['ldiff'], shade=True, label='Versicolor', ax=ax4)\n",
    "sns.kdeplot(virginica['ldiff'], shade=True, label='Virginica', ax=ax4)\n",
    "ax4.set_xlabel('Sepal Length - Petal Length')\n",
    "ax4.set_ylabel('Kernel Density Estimate')\n",
    "\n",
    "plt.suptitle('KDEs of Petal and Sepal Length/Width Ratios')"
   ]
  },
  {
   "cell_type": "markdown",
   "metadata": {},
   "source": [
    "Versicolor and virginica are evidently more closely related to each other than to setosa. As such, they are nearly indistinguishible when using kernel density estimates of dimension relationships (i.e. length/width ratios of the petals and sepals respectively.) According to the third graph, petal vs. sepal length ratio strictly divides setosa from the other two species, and demonstrates a bit less overlap between versicolor and virginica. Thus, when building a model, this factor would be a strong choice (put plainly, how long the petal is compared to the sepal.)"
   ]
  },
  {
   "cell_type": "code",
   "execution_count": null,
   "metadata": {},
   "outputs": [],
   "source": [
    "iris.head()"
   ]
  },
  {
   "cell_type": "code",
   "execution_count": null,
   "metadata": {},
   "outputs": [],
   "source": [
    "irises = pd.concat([setosas, versicolor, virginica])"
   ]
  },
  {
   "cell_type": "code",
   "execution_count": null,
   "metadata": {},
   "outputs": [],
   "source": [
    "irises.head()"
   ]
  },
  {
   "cell_type": "code",
   "execution_count": null,
   "metadata": {},
   "outputs": [],
   "source": [
    "irises['spwratio'] = irises['petal_width']/irises['sepal_width']\n",
    "irisesc = irises.copy()\n",
    "ir = irisesc[['sepalratio', 'petalratio', 'splratio', 'sepal_length','sepal_width','petal_width','spwratio','species']]\n",
    "ir.head()"
   ]
  },
  {
   "cell_type": "code",
   "execution_count": null,
   "metadata": {},
   "outputs": [],
   "source": [
    "sns.pairplot(ir, hue = 'species')"
   ]
  },
  {
   "cell_type": "markdown",
   "metadata": {},
   "source": [
    "To my eye, the most effect separation of datapoints occurs when comparing splratio (petal to sepal length) and petal_width (petal width). I think perhaps given these two observations, you could predict with a pretty high level of confidence the species of the iris. As in the 3-dimensional plot above, it's obvious that petal length and width are both required to make a quality prediction. You could imagine particular length to width ratios as different petal shapes -- put this way it becomes somewhat obvious.  "
   ]
  },
  {
   "cell_type": "code",
   "execution_count": null,
   "metadata": {},
   "outputs": [],
   "source": [
    "plt.scatter(ir['petal_width'], ir['splratio'], c=z, cmap=cmap)\n",
    "plt.colorbar()"
   ]
  },
  {
   "cell_type": "code",
   "execution_count": null,
   "metadata": {},
   "outputs": [],
   "source": [
    "line = ir[['petal_width','splratio']]\n",
    "line.plot(kind='line')"
   ]
  },
  {
   "cell_type": "code",
   "execution_count": null,
   "metadata": {},
   "outputs": [],
   "source": [
    "from sklearn.model_selection import train_test_split \n",
    "from sklearn.linear_model import LinearRegression\n",
    "from sklearn import metrics\n",
    "\n",
    "X = ir['petal_width'].values.reshape(-1,1)\n",
    "y = ir['splratio'].values.reshape(-1,1)\n",
    "\n",
    "X_train, X_test, y_train, y_test = train_test_split(X, y, test_size=0.2, random_state=0)\n",
    "\n",
    "reg = LinearRegression()\n",
    "reg.fit(X_train, y_train)\n",
    "\n",
    "#To retrieve the intercept:\n",
    "print(reg.intercept_)\n",
    "#For retrieving the slope:\n",
    "print(reg.coef_)"
   ]
  },
  {
   "cell_type": "code",
   "execution_count": null,
   "metadata": {},
   "outputs": [],
   "source": [
    "y_pred = reg.predict(X_test)\n",
    "df = pd.DataFrame({'Actual': y_test.flatten(), 'Predicted': y_pred.flatten()})\n",
    "df"
   ]
  },
  {
   "cell_type": "code",
   "execution_count": null,
   "metadata": {},
   "outputs": [],
   "source": [
    "plt.scatter(X_test, y_test,  color='gray')\n",
    "plt.plot(X_test, y_pred, color='red', linewidth=2)\n",
    "plt.show()"
   ]
  },
  {
   "cell_type": "code",
   "execution_count": null,
   "metadata": {},
   "outputs": [],
   "source": [
    "from sklearn.decomposition import PCA\n",
    "X = ir[['splratio','petal_width']]\n",
    "\n",
    "model = PCA(n_components=2)\n",
    "model.fit(X)\n",
    "X_2D = model.transform(X)\n",
    "\n",
    "ir['PCA1'] = X_2D[:,0]\n",
    "ir['PCA2'] = X_2D[:,1]\n",
    "sns.lmplot('PCA1', 'PCA2', hue='species', data=ir, fit_reg=False)"
   ]
  },
  {
   "cell_type": "code",
   "execution_count": null,
   "metadata": {},
   "outputs": [],
   "source": [
    "from sklearn.mixture import GaussianMixture\n",
    "model2 = GaussianMixture(n_components = 3, covariance_type='full')\n",
    "model2.fit(X_train)\n",
    "y_gmm = model2.predict(X_train)\n",
    "X_train['cluster'] = y_gmm\n",
    "sns.lmplot('PCA1', 'PCA2', data=ir, hue='species', col = 'cluster', fit_reg=False)\n",
    "\n"
   ]
  },
  {
   "cell_type": "code",
   "execution_count": null,
   "metadata": {},
   "outputs": [],
   "source": [
    "X_train"
   ]
  },
  {
   "cell_type": "code",
   "execution_count": null,
   "metadata": {},
   "outputs": [],
   "source": [
    "species = model2.predict(X)\n",
    "ratio = np.array(X_train['splratio'])\n",
    "width = np.array(X_train['petal_width'])\n",
    "#PCA1 vs PCA2, color is the predicted category\n",
    "plt.scatter(ratio, width, c=y_gmm, s=40, cmap='viridis')"
   ]
  },
  {
   "cell_type": "code",
   "execution_count": null,
   "metadata": {},
   "outputs": [],
   "source": [
    "probs = model2.predict_proba(X)\n",
    "print(probs[95:105].round(3))\n",
    "size = 50 * probs.max(1) ** 2"
   ]
  },
  {
   "cell_type": "code",
   "execution_count": null,
   "metadata": {},
   "outputs": [],
   "source": [
    "plt.style.use('fivethirtyeight')\n",
    "plt.scatter(x0, x1, c=y_gmm, cmap='Dark2', s=size)"
   ]
  },
  {
   "cell_type": "code",
   "execution_count": null,
   "metadata": {},
   "outputs": [],
   "source": [
    "import pickle\n",
    "filename = 'irisgmm.sav'\n",
    "pickle.dump(model2, open(filename, 'wb'))"
   ]
  },
  {
   "cell_type": "code",
   "execution_count": null,
   "metadata": {},
   "outputs": [],
   "source": [
    "Xnew = [[2, 0.8]]\n",
    "ynew = model2.predict(Xnew)\n",
    "print(\"X=%s, Predicted=%s\" % (Xnew[0], ynew[0]))"
   ]
  },
  {
   "cell_type": "code",
   "execution_count": null,
   "metadata": {},
   "outputs": [],
   "source": [
    "from sklearn.cluster import KMeans\n",
    "kmeans = KMeans(n_clusters=3)\n",
    "kmeans.fit(X)\n",
    "y_kmeans = kmeans.predict(X)"
   ]
  },
  {
   "cell_type": "code",
   "execution_count": null,
   "metadata": {},
   "outputs": [],
   "source": [
    "x0 = np.array(X['splratio'])\n",
    "x1 = np.array(X['petal_width'])"
   ]
  },
  {
   "cell_type": "code",
   "execution_count": null,
   "metadata": {},
   "outputs": [],
   "source": [
    "plt.scatter(x0, x1, c=y_kmeans, s=50, cmap='viridis')\n",
    "\n",
    "centers = kmeans.cluster_centers_\n",
    "plt.scatter(centers[:, 0], centers[:, 1], c='black', s=200, alpha=0.5);"
   ]
  },
  {
   "cell_type": "code",
   "execution_count": null,
   "metadata": {},
   "outputs": [],
   "source": [
    "filename2 = 'iriskmeans.sav'\n",
    "pickle.dump(kmeans, open(filename2, 'wb'))"
   ]
  },
  {
   "cell_type": "code",
   "execution_count": null,
   "metadata": {},
   "outputs": [],
   "source": [
    "import string\n",
    "tryAgain = 'yes'\n",
    "def speciespredict():\n",
    "    rat = input(\"Petal to Sepal Length Ratio:\")\n",
    "    wid = input(\"Petal Width (cm):\")\n",
    "    Xnew = [[rat, wid]]\n",
    "    ynew = kmeans.predict(Xnew)\n",
    "    if ynew == 0:\n",
    "        print(\"Setosa\")\n",
    "    elif ynew == 1:\n",
    "        print(\"Versicolor\")\n",
    "    elif ynew == 2:\n",
    "        print(\"Virginica\")\n",
    "    inp = input(\"Enter 'yes' to try again, or anything else to exit: \")\n",
    "    if inp.lower() != 'yes':\n",
    "        exit()"
   ]
  },
  {
   "cell_type": "code",
   "execution_count": null,
   "metadata": {},
   "outputs": [],
   "source": [
    "while tryAgain == 'yes':\n",
    "    speciespredict()"
   ]
  },
  {
   "cell_type": "code",
   "execution_count": 184,
   "metadata": {},
   "outputs": [
    {
     "name": "stdin",
     "output_type": "stream",
     "text": [
      "Petal to Sepal Length Ratio: 0.8\n",
      "Petal Width (cm): 1.7\n"
     ]
    },
    {
     "name": "stdout",
     "output_type": "stream",
     "text": [
      "Virginica\n"
     ]
    }
   ],
   "source": []
  },
  {
   "cell_type": "code",
   "execution_count": null,
   "metadata": {},
   "outputs": [],
   "source": []
  }
 ],
 "metadata": {
  "kernelspec": {
   "display_name": "Python 3",
   "language": "python",
   "name": "python3"
  },
  "language_info": {
   "codemirror_mode": {
    "name": "ipython",
    "version": 3
   },
   "file_extension": ".py",
   "mimetype": "text/x-python",
   "name": "python",
   "nbconvert_exporter": "python",
   "pygments_lexer": "ipython3",
   "version": "3.7.6"
  }
 },
 "nbformat": 4,
 "nbformat_minor": 4
}
